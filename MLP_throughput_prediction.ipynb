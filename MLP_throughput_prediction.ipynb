{
  "nbformat": 4,
  "nbformat_minor": 0,
  "metadata": {
    "accelerator": "GPU",
    "colab": {
      "name": "MLP_throughput_prediction.ipynb",
      "provenance": [],
      "collapsed_sections": [
        "pwX7aBm0ZcnL",
        "KsD-xDB3hrFq",
        "bRDP2XYBx0it",
        "OaOyAkO_Vltt"
      ]
    },
    "kernelspec": {
      "display_name": "Python 3",
      "name": "python3"
    }
  },
  "cells": [
    {
      "cell_type": "markdown",
      "metadata": {
        "id": "f6IvWXrBZLia"
      },
      "source": [
        "# Machine Learning in 5G Challenge."
      ]
    },
    {
      "cell_type": "markdown",
      "metadata": {
        "id": "_VF7KA2oYpV6"
      },
      "source": [
        "## Initialize\n"
      ]
    },
    {
      "cell_type": "code",
      "metadata": {
        "id": "ie5ZWGYsY0Br",
        "outputId": "3f7f5194-8de5-4eb2-c791-52e273de6e92",
        "colab": {
          "base_uri": "https://localhost:8080/"
        }
      },
      "source": [
        "import numpy as np\n",
        "import pandas as pd\n",
        "import matplotlib.pyplot as plt\n",
        "from scipy.spatial import distance\n",
        "\n",
        "\n",
        "import random\n",
        "from random import seed\n",
        "from random import randint\n",
        "\n",
        "import torch\n",
        "from torch.nn import Module, MSELoss, Linear, ReLU, PReLU, Sequential, BatchNorm1d\n",
        "\n",
        "from google.colab import drive\n",
        "\n",
        "# This will prompt for authorization.\n",
        "drive.mount('/content/drive')\n",
        "data_path = '/content/drive/My Drive/Data/...'             ## Path to where data is stored\n",
        "results_path = '/content/drive/My Drive/Results/...'       ## Path where results will be stored\n",
        "input_train = data_path+'Train/input_node_files/'\n",
        "output_train_sim = data_path+'Train/output_simulator/'\n",
        "input_test = data_path+'Test/input_node_files_test/'\n",
        "output_test_sim = data_path+'Test/output_simulator_test/'\n",
        "\n",
        "# Device configuration (choose GPU if it is available )\n",
        "device = torch.device('cuda:0' if torch.cuda.is_available() else 'cpu')\n"
      ],
      "execution_count": null,
      "outputs": [
        {
          "output_type": "stream",
          "text": [
            "Drive already mounted at /content/drive; to attempt to forcibly remount, call drive.mount(\"/content/drive\", force_remount=True).\n"
          ],
          "name": "stdout"
        }
      ]
    },
    {
      "cell_type": "markdown",
      "metadata": {
        "id": "lUoqKgkUinhA"
      },
      "source": [
        "## Loader"
      ]
    },
    {
      "cell_type": "markdown",
      "metadata": {
        "id": "pwX7aBm0ZcnL"
      },
      "source": [
        "### Read Simulator"
      ]
    },
    {
      "cell_type": "code",
      "metadata": {
        "id": "siZT0F3QZatY"
      },
      "source": [
        "def read_output_simulator(fp, N_AP):       \n",
        "    line = fp.readline()                    # Initial line (name of the scenaio)        \n",
        "    throughput = fp.readline()              # Throughput  \n",
        "    airTime = fp.readline()                 # AirTime\n",
        "   \n",
        "    RSSI = fp.readline()                    # RSSI\n",
        "    interference = np.zeros((N_AP,N_AP))    # Interferences\n",
        "    for i in range(N_AP):         \n",
        "        inter = fp.readline()  \n",
        "        if(i==0):\n",
        "            interference[0] = np.array(inter[1:len(inter)-2].split(',')).astype(np.float)\n",
        "        else:        \n",
        "            interference[i] = np.array(inter[:len(inter)-2].split(',')).astype(np.float) \n",
        "    SINR = fp.readline()\n",
        "    SINR = np.array(SINR[1:len(SINR)-2].split(',')).astype(np.float)\n",
        "    list_of_SINR = np.split(SINR, np.where(SINR == np.inf)[0][1:])\n",
        "    RSSI = np.array(RSSI[1:len(RSSI)-2].split(',')).astype(np.float)\n",
        "    list_of_RSSI = np.split(RSSI, np.where(RSSI == np.inf)[0][1:])\n",
        "    airTime = np.array(airTime[1:len(airTime)-3].split(';'))\n",
        "    list_of_airTime = list()\n",
        "    for i in range(N_AP):\n",
        "        list_of_airTime.append(np.array(airTime[i].split(',')).astype(np.float))\n",
        "    \n",
        "    throughput = np.array(throughput[1:len(throughput)-2].split(',')).astype(np.float)     \n",
        "    list_of_throughput = np.split(throughput, np.where(RSSI == np.inf)[0][1:])      \n",
        "\n",
        "    return( interference, list_of_RSSI, list_of_SINR, list_of_airTime, list_of_throughput )"
      ],
      "execution_count": null,
      "outputs": []
    },
    {
      "cell_type": "markdown",
      "metadata": {
        "id": "2QCBwOHAiq_b"
      },
      "source": [
        "### Read data"
      ]
    },
    {
      "cell_type": "code",
      "metadata": {
        "id": "40-piVkDixZ0"
      },
      "source": [
        "def load_info(input_nodes_sceXX_path, simulator_file_path, size, N_APs):\n",
        "    features = np.zeros((size,N_APs,15))\n",
        "    target = np.zeros((size,N_APs,1))    \n",
        "\n",
        "    ##############################################################\n",
        "    ####################### Features #############################\n",
        "    ##############################################################\n",
        "    ## 0: SINR mean                                             ##\n",
        "    ## 1: SINR std                                              ##\n",
        "    ## 2: RSSI mean                                             ##\n",
        "    ## 3: RSSI std                                              ##\n",
        "    ## 4: Dist mean                                             ##\n",
        "    ## 5: Dist std                                              ##\n",
        "    ## 6: num of STAs                                           ##\n",
        "    ## 7-14: Airtime x Channel                                  ##\n",
        "\n",
        "    fp = open(simulator_file_path, 'r')\n",
        "    for f in range(size):\n",
        "        ##### READ OUTPUT FILE ##### \n",
        "        interferences, RSSI, SINR, list_of_airTime, throughput = read_output_simulator(fp, N_APs)     # Interference [N_APs,N_APs],  list_RSSI(i)[0-20], list_Throughput(i)[0-20]\n",
        "       \n",
        "        ##### READ INPUT FILE ######\n",
        "        csvData = pd.read_csv(input_nodes_sceXX_path + format(f,'03')+'.csv', sep = ';', usecols=['node_type', 'min_channel_allowed', 'max_channel_allowed'])\n",
        "        channels_data = csvData.values\n",
        "        APs_channels_data = channels_data[np.where(channels_data[:,0]==0)][:,1:3]\n",
        "\n",
        "        csvData = pd.read_csv(input_nodes_sceXX_path + format(f,'03')+'.csv', sep = ';', usecols=['node_type', 'x(m)', 'y(m)'])\n",
        "        positions = csvData.values\n",
        "        list_of_positions = np.split(positions, np.where(positions[:,0]==0)[0])[1:]\n",
        "\n",
        "\n",
        "        #### Compute available channels ####\n",
        "        APs_airTime = np.zeros((N_APs, 8))\n",
        "        APs_openChan = np.zeros((N_APs, 8))\n",
        "        for ap in range(N_APs):\n",
        "            APs_airTime[ap,APs_channels_data[ap,0]:APs_channels_data[ap,1]+1] = list_of_airTime[ap]/100\n",
        "            APs_openChan[ap,APs_channels_data[ap,0]:APs_channels_data[ap,1]+1] = 1\n",
        "            \n",
        "        for i, thr in enumerate(throughput):   \n",
        "            n=len(thr[1:])\n",
        "            distances = list_of_positions[i]\n",
        "            dist = np.zeros((len(distances)-1))\n",
        "            for sta in range(1,len(distances)):\n",
        "                dist[sta-1] = distance.euclidean(distances[0][1:],distances[sta][1:])\n",
        "            \n",
        "\n",
        "            SINR[i][np.isnan(SINR[i])] = -9\n",
        "            features[f,i,0] = np.mean(SINR[i][1:])\n",
        "            features[f,i,1] = np.std(SINR[i][1:])\n",
        "            features[f,i,2] = np.mean(RSSI[i][1:])\n",
        "            features[f,i,3] = np.std(RSSI[i][1:])\n",
        "            features[f,i,4] = np.mean(dist)           \n",
        "            features[f,i,5] = np.std(dist)\n",
        "            features[f,i,6] = n\n",
        "            features[f,i,7:] = APs_airTime[i]\n",
        "\n",
        "            target[f,i,0] = thr[0]\n",
        "\n",
        "    return(features, target)"
      ],
      "execution_count": null,
      "outputs": []
    },
    {
      "cell_type": "markdown",
      "metadata": {
        "id": "KsD-xDB3hrFq"
      },
      "source": [
        "### Dataset Loader"
      ]
    },
    {
      "cell_type": "code",
      "metadata": {
        "id": "WxhJaRuChqA_"
      },
      "source": [
        "####################################\n",
        "# 1- Dataset class\n",
        "####################################\n",
        "  \n",
        "class Data(torch.utils.data.Dataset):\n",
        "    \n",
        "    # Initialization method for the dataset\n",
        "    def __init__(self, input_path, simulator_path, type = 'train', scen = 1):\n",
        "        \n",
        "        APs_info = list()\n",
        "        APs_throughput = list()\n",
        "\n",
        "        if type == 'train':\n",
        "            print(\"Loading Training Dataset ...\", scen)\n",
        "\n",
        "            if scen == 1:\n",
        "                print(\"Loading Scen 1 (A) ...\")\n",
        "                APs_infoA, APs_throughputA = load_info(input_train+'sce1a/input_nodes_sce1a_deployment_', output_train_sim+'script_output_sce1a.txt', 100, 12)\n",
        "                print(\"Loading Scen 1 (B) ...\")\n",
        "                APs_infoB, APs_throughputB = load_info(input_train+'sce1b/input_nodes_sce1b_deployment_', output_train_sim+'script_output_sce1b.txt', 100, 12)\n",
        "                print(\"Loading Scen 1 (C) ...\")\n",
        "                APs_infoC, APs_throughputC = load_info(input_train+'sce1c/input_nodes_sce1c_deployment_', output_train_sim+'script_output_sce1c.txt', 75, 12)\n",
        "\n",
        "                for i in range(100):\n",
        "                    APs_info.append(APs_infoA[i])\n",
        "                    APs_throughput.append(APs_throughputA[i])\n",
        "                for i in range(100):\n",
        "                    APs_info.append(APs_infoB[i])\n",
        "                    APs_throughput.append(APs_throughputB[i])\n",
        "                for i in range(75):\n",
        "                    APs_info.append(APs_infoC[i])\n",
        "                    APs_throughput.append(APs_throughputC[i])\n",
        "            elif scen == 2:\n",
        "                print(\"Loading Scen 2 (A) ...\")\n",
        "                APs_infoA,  APs_throughputA = load_info(input_train+'sce2a/input_nodes_sce2a_deployment_', output_train_sim+'script_output_sce2a.txt', 100, 8)\n",
        "                print(\"Loading Scen 2 (B) ...\")\n",
        "                APs_infoB,  APs_throughputB = load_info(input_train+'sce2b/input_nodes_sce2b_deployment_', output_train_sim+'script_output_sce2b.txt', 100, 8)\n",
        "                print(\"Loading Scen 2 (C) ...\")\n",
        "                APs_infoC,  APs_throughputC = load_info(input_train+'sce2c/input_nodes_sce2c_deployment_', output_train_sim+'script_output_sce2c.txt', 75, 8)\n",
        "\n",
        "                for i in range(100):\n",
        "                    APs_info.append(APs_infoA[i])\n",
        "                    APs_throughput.append(APs_throughputA[i])\n",
        "                for i in range(100):\n",
        "                    APs_info.append(APs_infoB[i])\n",
        "                    APs_throughput.append(APs_throughputB[i])\n",
        "                for i in range(75):\n",
        "                    APs_info.append(APs_infoC[i])\n",
        "                    APs_throughput.append(APs_throughputC[i])\n",
        "                        \n",
        "        elif type == 'test':\n",
        "            print(\"Loading Test Dataset Scen {} ...\".format(scen))\n",
        "            if scen == 1:\n",
        "                APs_4_info, APs_4_throughput = load_info(input_test+'test_1/input_nodes_test_sce1_deployment_', output_test_sim+'script_output_test_sce1.txt', 50, 4)\n",
        "                for i in range(50):\n",
        "                    APs_info.append(APs_4_info[i])\n",
        "                    APs_throughput.append(APs_4_throughput[i])\n",
        "            elif scen == 2:\n",
        "                APs_6_info, APs_6_throughput  = load_info(input_test+'test_2/input_nodes_test_sce2_deployment_', output_test_sim+'script_output_test_sce2.txt', 50, 6)\n",
        "                for i in range(50):\n",
        "                    APs_info.append(APs_6_info[i])\n",
        "                    APs_throughput.append(APs_6_throughput[i])\n",
        "            elif scen == 3:\n",
        "                APs_8_info, APs_8_throughput  = load_info(input_test+'test_3/input_nodes_test_sce3_deployment_', output_test_sim+'script_output_test_sce3.txt', 50, 8)\n",
        "                for i in range(50):\n",
        "                    APs_info.append(APs_8_info[i])\n",
        "                    APs_throughput.append(APs_8_throughput[i])\n",
        "            elif scen == 4:                \n",
        "                APs_10_info, APs_10_throughput  = load_info(input_test+'test_4/input_nodes_test_sce4_deployment_', output_test_sim+'script_output_test_sce4.txt', 50, 10)\n",
        "                for i in range(50):\n",
        "                    APs_info.append(APs_10_info[i])\n",
        "                    APs_throughput.append(APs_10_throughput[i])\n",
        "        print(\"DONE !\")\n",
        "        self.data_info = APs_info\n",
        "        self.target = APs_throughput\n",
        "            \n",
        "    def __getitem__(self, index):        \n",
        "        data_info = self.data_info[index]\n",
        "        target = self.target[index]\n",
        "        \n",
        "        info = torch.tensor(np.array(data_info, dtype=np.float32))\n",
        "        target = torch.tensor(np.array(target, dtype=np.float32))\n",
        "\n",
        "        # return the features and the target as a tuple\n",
        "        return (info, target)\n",
        "        \n",
        "    # Return the number of scenarios\n",
        "    def __len__(self):\n",
        "        return len(self.target)\n",
        " "
      ],
      "execution_count": null,
      "outputs": []
    },
    {
      "cell_type": "markdown",
      "metadata": {
        "id": "YMxFcd67o5j2"
      },
      "source": [
        "### Load data"
      ]
    },
    {
      "cell_type": "code",
      "metadata": {
        "id": "f_PRThUCo49H"
      },
      "source": [
        "dataset_train_1 = Data(input_train, output_train_sim, type = 'train', scen=1)\n",
        "dataset_train_2 = Data(input_train, output_train_sim, type = 'train', scen=2)\n",
        "dataset_test_4 = Data(input_test, output_test_sim, type = 'test', scen=1)\n",
        "dataset_test_6 = Data(input_test, output_test_sim, type = 'test', scen=2)\n",
        "dataset_test_8 = Data(input_test, output_test_sim, type = 'test', scen=3)\n",
        "dataset_test_10 = Data(input_test, output_test_sim, type = 'test', scen=4)\n",
        "\n",
        "# Split the dataset (90%, 10%)\n",
        "train1, validation1 = torch.utils.data.random_split(dataset_train_1, [250,25])\n",
        "train2, validation2 = torch.utils.data.random_split(dataset_train_2, [250,25])\n",
        "\n",
        "train_loader = torch.utils.data.DataLoader(dataset= torch.utils.data.ConcatDataset((train1, train2)), batch_size=50)\n",
        "validation_loader = torch.utils.data.DataLoader(dataset=torch.utils.data.ConcatDataset((validation1, validation2)), batch_size=25)\n",
        "# train_loader = torch.utils.data.DataLoader(dataset= torch.utils.data.ConcatDataset((dataset_train_1, dataset_train_2)), batch_size=55)\n",
        "\n",
        "\n",
        "test_loader_4 = torch.utils.data.DataLoader(dataset=dataset_test_4, batch_size=50)\n",
        "test_loader_6 = torch.utils.data.DataLoader(dataset=dataset_test_6, batch_size=50)\n",
        "test_loader_8 = torch.utils.data.DataLoader(dataset=dataset_test_8, batch_size=50)\n",
        "test_loader_10 = torch.utils.data.DataLoader(dataset=dataset_test_10, batch_size=50)"
      ],
      "execution_count": null,
      "outputs": []
    },
    {
      "cell_type": "markdown",
      "metadata": {
        "id": "msUg7wzm9VYN"
      },
      "source": [
        "# THROUGHPUT PREDICTIVE MODEL"
      ]
    },
    {
      "cell_type": "markdown",
      "metadata": {
        "id": "03qotFggDB4-"
      },
      "source": [
        "### MLP for throughput prediction"
      ]
    },
    {
      "cell_type": "code",
      "metadata": {
        "id": "9m-yGtXlDI76"
      },
      "source": [
        "#################################\n",
        "# 3- Implement an MLP using PyTorch\n",
        "#################################\n",
        "class MLP_PyTorch(Module):\n",
        "    def __init__(self):   \n",
        "        super(MLP_PyTorch, self).__init__()     \n",
        "        \n",
        "        self.Linear_sinr = Linear(2, 1)  \n",
        "        self.Linear_rssi = Linear(2, 1)\n",
        "        self.Linear_dist = Linear(2, 1)\n",
        "        self.Linear_signal = Sequential(\n",
        "            Linear(4, 3),\n",
        "            PReLU(),\n",
        "        )\n",
        "        self.Linear_airtime = Sequential(\n",
        "            Linear(8, 3),\n",
        "            PReLU(),\n",
        "        )\n",
        "        self.Linear_throughput = Sequential(\n",
        "            Linear(6,7),\n",
        "            PReLU(),\n",
        "            Linear(7,1),\n",
        "            ReLU(),\n",
        "        )\n",
        "        self.norm3 = BatchNorm1d(4)\n",
        "        self.prelu = PReLU()\n",
        "        \n",
        "\n",
        "    # Define the forward pass of the module using the sub-modules declared in the initializer\n",
        "    def forward(self, X):\n",
        "        batch_size = X.size(0)\n",
        "        N_APs = X.size(1)\n",
        "        n = X[:,:,6,np.newaxis]\n",
        "\n",
        "        sinr = self.Linear_sinr(X[:,:,:2])\n",
        "        rssi = self.Linear_rssi(X[:,:,2:4])\n",
        "        dist = self.Linear_dist(X[:,:,4:6])\n",
        "\n",
        "        signal = torch.cat((rssi, dist, sinr, n), axis=2)\n",
        "        signal = self.norm3(torch.flatten(signal,end_dim=1)).reshape(batch_size,N_APs,4)\n",
        "        signal = self.prelu(signal)\n",
        "        signal = self.Linear_signal(signal)        \n",
        "\n",
        "        airtime = self.Linear_airtime(X[:,:,7:])\n",
        "\n",
        "        throughput = self.Linear_throughput(torch.cat((signal,airtime),axis=2))\n",
        "\n",
        "        return throughput\n"
      ],
      "execution_count": null,
      "outputs": []
    },
    {
      "cell_type": "markdown",
      "metadata": {
        "id": "bRDP2XYBx0it"
      },
      "source": [
        "### Trainer"
      ]
    },
    {
      "cell_type": "code",
      "metadata": {
        "id": "Q5XJBMrAx0Jr"
      },
      "source": [
        "# Function to train our MLP with PyTorch\n",
        "def train_PyTorch(NN, train_loader, validation_loader, criterion,  optimizer = None, num_epochs = 5000, model_name='MLP.ckpt', device='cpu'):\n",
        "    train_list_loss = []\n",
        "    validation_list_loss = [] \n",
        "    for epoch in range(num_epochs):        \n",
        "        loss_avg = 0\n",
        "        nBatches = 0        \n",
        "        validation_loss_avg = 0\n",
        "        validation_nBatches = 0\n",
        "        \n",
        "        NN.train()\n",
        "        for i, (data, targets) in enumerate(train_loader):\n",
        "            X = data.to(device)\n",
        "            y = targets.to(device)\n",
        "            \n",
        "            # reset optimizer at each epoch\n",
        "            optimizer.zero_grad()\n",
        "           \n",
        "            # make prediction\n",
        "            yHat = NN.forward(X)\n",
        "\n",
        "            # compute the loss function\n",
        "            loss = criterion(yHat,y)\n",
        "        \n",
        "            # Backward and optimize\n",
        "            loss.backward()\n",
        "            optimizer.step()\n",
        "\n",
        "            loss_avg += loss.cpu().item()\n",
        "            nBatches+=1\n",
        "\n",
        "        NN.eval()\n",
        "        for i, (data, targets) in enumerate(validation_loader):\n",
        "            X = data.to(device)\n",
        "            y = targets.to(device)\n",
        "            \n",
        "            # make prediction\n",
        "            yHat = NN.forward(X)\n",
        "\n",
        "            # compute the loss function\n",
        "            loss = criterion(yHat,y)\n",
        "\n",
        "            validation_loss_avg += loss.cpu().item()\n",
        "            validation_nBatches+=1\n",
        "\n",
        "\n",
        "        # Print loss and save the value at each iteration\n",
        "        if epoch%100 == 0 : \n",
        "            print('Loss {} = {} , {}'.format(epoch,loss_avg / nBatches, validation_loss_avg / validation_nBatches))\n",
        "        train_list_loss.append(loss_avg / nBatches)\n",
        "        validation_list_loss.append(validation_loss_avg / validation_nBatches)\n",
        "\n",
        "\n",
        "\n",
        "    print('Loss {} = {} , {}'.format(epoch,loss_avg / nBatches, validation_loss_avg / validation_nBatches))\n",
        "    torch.save(NN.state_dict(), results_path + model_name)\n",
        "    return train_list_loss, validation_list_loss"
      ],
      "execution_count": null,
      "outputs": []
    },
    {
      "cell_type": "markdown",
      "metadata": {
        "id": "wwkwmtMAr2Pt"
      },
      "source": [
        "### Execution"
      ]
    },
    {
      "cell_type": "code",
      "metadata": {
        "id": "VogMkYGmr0_-",
        "outputId": "456bd4a3-50a1-4734-ec53-f7f89bcd6a76",
        "colab": {
          "base_uri": "https://localhost:8080/",
          "height": 415
        }
      },
      "source": [
        "# Initialize a Pytorch MLP\n",
        "NN = MLP_PyTorch().to(device)\n",
        "\n",
        "optimizer = torch.optim.Adam(NN.parameters(), lr= 2E-2) \n",
        "criterion = MSELoss()\n",
        "\n",
        "#Train MLP using Pytorch:\n",
        "train_list_loss, validation_list_loss = train_PyTorch(NN, train_loader, validation_loader, criterion, num_epochs = 700, optimizer = optimizer, device=device)\n",
        "\n",
        "# Plot the evolution of the loss function during training\n",
        "plt.plot(train_list_loss[10:],c='y', label=\"Train\")\n",
        "plt.plot(validation_list_loss[10:],c='b', label=\"Validation\")\n",
        "plt.xlabel('Iterations')\n",
        "plt.ylabel('Loss Val')\n",
        "plt.legend(loc=\"upper right\")\n",
        "plt.show()\n",
        "\n",
        "## If the loss gets suck, repeat the execution, this may happend when weights are initialized randomly"
      ],
      "execution_count": null,
      "outputs": [
        {
          "output_type": "stream",
          "text": [
            "Loss 0 = 10464.348291015625 , 10857.03369140625\n",
            "Loss 100 = 384.407405090332 , 435.1339569091797\n",
            "Loss 200 = 271.8519714355469 , 307.1531066894531\n",
            "Loss 300 = 196.04926376342775 , 207.07758331298828\n",
            "Loss 400 = 183.88642044067382 , 191.13725662231445\n",
            "Loss 500 = 177.19973373413086 , 180.8058204650879\n",
            "Loss 600 = 174.21511001586913 , 177.93603134155273\n",
            "Loss 699 = 169.70102920532227 , 171.79266357421875\n"
          ],
          "name": "stdout"
        },
        {
          "output_type": "display_data",
          "data": {
            "image/png": "[encoded data removed]",
            "text/plain": [
              "<Figure size 432x288 with 1 Axes>"
            ]
          },
          "metadata": {
            "tags": [],
            "needs_background": "light"
          }
        }
      ]
    },
    {
      "cell_type": "code",
      "metadata": {
        "id": "rq2zz4jy95gj",
        "outputId": "e8f6189e-aab9-4ef0-ffff-8548f482d6db",
        "colab": {
          "base_uri": "https://localhost:8080/",
          "height": 286
        }
      },
      "source": [
        "NN = MLP_PyTorch()\n",
        "NN.eval()\n",
        "NN.load_state_dict(torch.load(results_path + 'MLP.ckpt'))\n",
        "\n",
        "y_train = torch.empty(0)\n",
        "y_hat_train = torch.empty(0)\n",
        "for x, y in train_loader:\n",
        "  y_hat_train = torch.cat((y_hat_train,torch.flatten(NN(x))))\n",
        "  y_train = torch.cat((y_train,torch.flatten(y)))\n",
        "print(y_hat_train.shape, y_train.shape)\n",
        "plt.scatter(y_hat_train.detach(), y_train, s=2,c='y', label= \"Train\")\n",
        "\n",
        "x_test, y_test = next(iter(validation_loader))\n",
        "y_test = torch.flatten(y_test)\n",
        "y_hat_test = torch.flatten(NN(x_test))\n",
        "plt.scatter(y_hat_test.cpu().detach(), y_test, s=2,c='b', label=\"Validation\")\n",
        "\n",
        "plt.plot(np.arange(350),c='black')\n",
        "plt.ylim(0, 350)\n",
        "plt.xlim(0, 350)\n",
        "plt.legend(loc=\"upper left\")\n",
        "plt.show()"
      ],
      "execution_count": null,
      "outputs": [
        {
          "output_type": "stream",
          "text": [
            "torch.Size([5000]) torch.Size([5000])\n"
          ],
          "name": "stdout"
        },
        {
          "output_type": "display_data",
          "data": {
            "image/png": "[encoded data removed]",
            "text/plain": [
              "<Figure size 432x288 with 1 Axes>"
            ]
          },
          "metadata": {
            "tags": [],
            "needs_background": "light"
          }
        }
      ]
    },
    {
      "cell_type": "markdown",
      "metadata": {
        "id": "xouN1yE1EBsN"
      },
      "source": [
        "# TEST"
      ]
    },
    {
      "cell_type": "markdown",
      "metadata": {
        "id": "OaOyAkO_Vltt"
      },
      "source": [
        "## LOAD & EXECUTE"
      ]
    },
    {
      "cell_type": "code",
      "metadata": {
        "id": "PvGEbsGCVwfe"
      },
      "source": [
        "## Load, compute predictions.\n",
        "\n",
        "NN = MLP_PyTorch()\n",
        "NN.eval()\n",
        "NN.load_state_dict(torch.load(results_path + 'MLP.ckpt'))\n",
        "data_4, target_4 = next(iter(test_loader_4))\n",
        "data_6, target_6 = next(iter(test_loader_6))\n",
        "data_8, target_8 = next(iter(test_loader_8))\n",
        "data_10, target_10 = next(iter(test_loader_10))\n",
        "\n",
        "APs_4_predicted_throughput = NN.forward(data_4)\n",
        "APs_6_predicted_throughput = NN.forward(data_6)\n",
        "APs_8_predicted_throughput = NN.forward(data_8)\n",
        "APs_10_predicted_throughput = NN.forward(data_10)\n",
        "\n",
        "def print_plot_scenario(predictions, targets, num_of_scen, N_APs):\n",
        "    results = np.zeros((num_of_scen))\n",
        "    for i in range(num_of_scen):\n",
        "        results[i] = criterion(predictions[i], targets[i]).item()\n",
        "    print('\\n %d APs :\\n'%(N_APs), np.sort(results))\n",
        "\n",
        "    y_test = torch.flatten(targets)\n",
        "    y_hat_test = torch.flatten(predictions).detach().numpy()\n",
        "    print(y_test.shape)\n",
        "    plt.scatter(y_hat_test, y_test, s=2)\n",
        "    plt.ylabel('Real Throughput')\n",
        "    plt.xlabel('Predicted Throughput')\n",
        "    plt.plot(np.arange(350),c='black')\n",
        "    plt.ylim(0, 350)\n",
        "    plt.xlim(0, 350)\n",
        "    plt.show()\n"
      ],
      "execution_count": null,
      "outputs": []
    },
    {
      "cell_type": "code",
      "metadata": {
        "id": "Gu_HrCPNX9ha",
        "outputId": "83a53616-2542-41c0-ad27-5becf9a86720",
        "colab": {
          "base_uri": "https://localhost:8080/",
          "height": 1000
        }
      },
      "source": [
        "## Compute the MSE of each scenario and plot the predictions.\n",
        "\n",
        "criterion = MSELoss() \n",
        "\n",
        "print(\"4 TOTAL Mean squared error: %.2f\" % criterion(APs_4_predicted_throughput,target_4).item())\n",
        "print(\"6 TOTAL Mean squared error: %.2f\" % criterion(APs_6_predicted_throughput, target_6).item())\n",
        "print(\"8 TOTAL Mean squared error: %.2f\" % criterion(APs_8_predicted_throughput, target_8).item())\n",
        "print(\"10 TOTAL Mean squared error: %.2f\" % criterion(APs_10_predicted_throughput, target_10).item())\n",
        "\n",
        "print_plot_scenario(APs_4_predicted_throughput, target_4, 50, 4)\n",
        "print_plot_scenario(APs_6_predicted_throughput, target_6, 50, 6)\n",
        "print_plot_scenario(APs_8_predicted_throughput, target_8, 50, 8)\n",
        "print_plot_scenario(APs_10_predicted_throughput, target_10, 50, 10)\n"
      ],
      "execution_count": null,
      "outputs": [
        {
          "output_type": "stream",
          "text": [
            "4 TOTAL Mean squared error: 463.93\n",
            "6 TOTAL Mean squared error: 373.48\n",
            "8 TOTAL Mean squared error: 256.37\n",
            "10 TOTAL Mean squared error: 283.99\n",
            "\n",
            " 4 APs :\n",
            " [   7.59025955   25.13788223   33.14500809   39.61937714   40.07956314\n",
            "   46.47572327   48.13679504   49.27365875   55.89484787   69.75027466\n",
            "   77.68452454   81.61389923   88.21012115   90.33211517  103.17651367\n",
            "  122.02392578  122.40706635  124.09805298  147.59997559  156.54904175\n",
            "  186.65435791  187.94433594  190.93295288  199.95361328  219.14892578\n",
            "  225.17071533  226.55122375  263.64294434  264.63452148  303.52160645\n",
            "  319.77072144  321.45617676  328.08694458  343.6027832   356.76260376\n",
            "  388.98977661  407.11602783  460.55706787  485.7175293   500.23068237\n",
            "  548.01446533  583.6998291   606.09594727  807.9543457   833.7411499\n",
            "  948.32623291 1076.37719727 1211.58935547 4357.78417969 4513.875     ]\n",
            "torch.Size([200])\n"
          ],
          "name": "stdout"
        },
        {
          "output_type": "display_data",
          "data": {
            "image/png": "[encoded data removed]",
            "text/plain": [
              "<Figure size 432x288 with 1 Axes>"
            ]
          },
          "metadata": {
            "tags": [],
            "needs_background": "light"
          }
        },
        {
          "output_type": "stream",
          "text": [
            "\n",
            " 6 APs :\n",
            " [   7.47628641   19.89400864   21.89832878   25.55013466   45.44393539\n",
            "   45.80825806   47.50090027   53.42047119   56.15447998   65.1202774\n",
            "   72.05381012   73.85199738   74.25429535   82.82624054  106.27731323\n",
            "  112.05715179  113.23748779  135.2535553   153.00482178  154.02920532\n",
            "  180.63146973  188.5007782   188.68658447  190.53770447  196.99633789\n",
            "  226.33992004  238.40820312  250.58679199  283.59625244  338.85861206\n",
            "  347.41699219  351.37149048  357.42929077  406.27890015  418.13162231\n",
            "  476.6020813   510.43933105  581.71734619  671.31158447  678.75897217\n",
            "  697.41033936  800.60888672  805.51092529  809.70678711  823.27490234\n",
            "  868.55596924  941.1963501  1146.96105957 1433.11083984 1799.96240234]\n",
            "torch.Size([300])\n"
          ],
          "name": "stdout"
        },
        {
          "output_type": "display_data",
          "data": {
            "image/png": "[encoded data removed]",
            "text/plain": [
              "<Figure size 432x288 with 1 Axes>"
            ]
          },
          "metadata": {
            "tags": [],
            "needs_background": "light"
          }
        },
        {
          "output_type": "stream",
          "text": [
            "\n",
            " 8 APs :\n",
            " [  24.49695778   28.32730103   31.93435478   37.83514404   47.95172501\n",
            "   56.94458389   62.01351547   68.82800293   70.42356873   74.56481934\n",
            "   75.63075256   76.14411926   86.00966644   90.05726624   90.72563934\n",
            "   99.051651    103.36152649  106.11374664  106.95737457  107.00063324\n",
            "  107.02670288  107.3256073   120.35173035  124.38100433  144.87684631\n",
            "  159.51170349  162.49581909  176.29486084  179.4019928   181.7374115\n",
            "  184.62867737  190.91223145  234.99931335  237.57180786  261.4619751\n",
            "  268.26635742  328.69766235  338.07394409  338.90979004  388.55160522\n",
            "  477.759552    515.94921875  516.00616455  521.54327393  658.39935303\n",
            "  702.02514648  714.00250244  790.79553223  893.95965576 1348.03942871]\n",
            "torch.Size([400])\n"
          ],
          "name": "stdout"
        },
        {
          "output_type": "display_data",
          "data": {
            "image/png": "[encoded data removed]",
            "text/plain": [
              "<Figure size 432x288 with 1 Axes>"
            ]
          },
          "metadata": {
            "tags": [],
            "needs_background": "light"
          }
        },
        {
          "output_type": "stream",
          "text": [
            "\n",
            " 10 APs :\n",
            " [  29.227314     31.19542885   39.19820786   39.80447006   42.51771545\n",
            "   42.52977753   54.94311523   56.41886139   60.62106323   61.32082367\n",
            "   73.26564026   75.46952057   96.98323059   99.52091217  127.26383209\n",
            "  138.92147827  149.98414612  151.59951782  156.97154236  158.66226196\n",
            "  163.55397034  164.32070923  164.64505005  170.72770691  181.22932434\n",
            "  190.22738647  211.84475708  225.33200073  241.00131226  255.63908386\n",
            "  262.67709351  272.27822876  272.76904297  273.19390869  294.2572937\n",
            "  310.83587646  325.1194458   371.7305603   374.84469604  377.79763794\n",
            "  401.55383301  421.28598022  478.51800537  620.42150879  658.90808105\n",
            "  802.11358643  825.83251953 1010.09051514 1090.36035156 1099.93054199]\n",
            "torch.Size([500])\n"
          ],
          "name": "stdout"
        },
        {
          "output_type": "display_data",
          "data": {
            "image/png": "[encoded data removed]",
            "text/plain": [
              "<Figure size 432x288 with 1 Axes>"
            ]
          },
          "metadata": {
            "tags": [],
            "needs_background": "light"
          }
        }
      ]
    },
    {
      "cell_type": "markdown",
      "metadata": {
        "id": "qZFrRRQyNis9"
      },
      "source": [
        "## Test Graphical Representation"
      ]
    },
    {
      "cell_type": "markdown",
      "metadata": {
        "id": "7Riqklg3HO2O"
      },
      "source": [
        "For each Scenario, Compute the MSE and plot a random deployment"
      ]
    },
    {
      "cell_type": "markdown",
      "metadata": {
        "id": "QEeQ87Z9Wrcn"
      },
      "source": [
        "### SCEN 1"
      ]
    },
    {
      "cell_type": "code",
      "metadata": {
        "id": "LnjaPd64NiFX"
      },
      "source": [
        "print(\"TOTAL Mean squared error: %.2f\" % criterion(target_4, APs_4_predicted_throughput))\n",
        "print()\n",
        "item = 0\n",
        "item = randint(0, 49)\n",
        "\n",
        "print(item,\"Mean squared error: %.2f\" % criterion(target_4[item], APs_4_predicted_throughput[item]))\n",
        "\n",
        "print(APs_4_predicted_throughput[item])\n",
        "print(target_4[item])\n",
        "\n",
        "# GRAPHICAL REPRESENTATION:\n",
        "plt.plot(APs_4_predicted_throughput[item].detach(), linestyle='--', marker='o', color='b')\n",
        "plt.plot(target_4[item].detach(), linestyle='--', marker='o', color='y')\n",
        "plt.ylim(0, 500)\n",
        "plt.show()\n",
        "\n"
      ],
      "execution_count": null,
      "outputs": []
    },
    {
      "cell_type": "markdown",
      "metadata": {
        "id": "AXsfGcI0W1O7"
      },
      "source": [
        "### SCEN 2"
      ]
    },
    {
      "cell_type": "code",
      "metadata": {
        "id": "bU1zq4k5W1O8"
      },
      "source": [
        "print(\"TOTAL Mean squared error: %.2f\" % criterion(target_6, APs_6_predicted_throughput))\n",
        "print()\n",
        "\n",
        "item = 33\n",
        "# item = randint(0, 49)\n",
        "\n",
        "print(item,\"Mean squared error: %.2f\" % criterion(target_6[item], APs_6_predicted_throughput[item]))\n",
        "\n",
        "print(APs_6_predicted_throughput[item])\n",
        "print(target_6[item])\n",
        "\n",
        "# GRAPHICAL REPRESENTATION:\n",
        "plt.plot(APs_6_predicted_throughput[item].detach(), linestyle='--', marker='o', color='b')\n",
        "plt.plot(target_6[item].detach(), linestyle='--', marker='o', color='y')\n",
        "plt.ylim(0, 500)\n",
        "plt.show()"
      ],
      "execution_count": null,
      "outputs": []
    },
    {
      "cell_type": "markdown",
      "metadata": {
        "id": "Owg93dhxW1tj"
      },
      "source": [
        "### SCEN 3"
      ]
    },
    {
      "cell_type": "code",
      "metadata": {
        "id": "UOjDJbXxW1tk"
      },
      "source": [
        "print(\"TOTAL Mean squared error: %.2f\" % criterion(target_8, APs_8_predicted_throughput))\n",
        "print()\n",
        "\n",
        "item = 0\n",
        "item = randint(0, 49)\n",
        "\n",
        "print(item,\"Mean squared error: %.2f\" % criterion(target_8[item], APs_8_predicted_throughput[item]))\n",
        "\n",
        "print(APs_8_predicted_throughput[item])\n",
        "print(target_8[item])\n",
        "\n",
        "# GRAPHICAL REPRESENTATION:\n",
        "plt.plot(APs_8_predicted_throughput[item].detach(), linestyle='--', marker='o', color='b')\n",
        "plt.plot(target_8[item].detach(), linestyle='--', marker='o', color='y')\n",
        "plt.ylim(0, 500)\n",
        "plt.show()"
      ],
      "execution_count": null,
      "outputs": []
    },
    {
      "cell_type": "markdown",
      "metadata": {
        "id": "NHOr_lS0W2ol"
      },
      "source": [
        "### SCEN 4"
      ]
    },
    {
      "cell_type": "code",
      "metadata": {
        "id": "HqgNBKRLW2om",
        "outputId": "a9e73705-f046-40ae-b1f8-a8814556680e",
        "colab": {
          "base_uri": "https://localhost:8080/",
          "height": 660
        }
      },
      "source": [
        "print(\"TOTAL Mean squared error: %.2f\" % criterion(target_10, APs_10_predicted_throughput))\n",
        "print()\n",
        "\n",
        "item = 0\n",
        "item = randint(0, 49)\n",
        "\n",
        "print(item,\"Mean squared error: %.2f\" % criterion(target_10[item], APs_10_predicted_throughput[item]))\n",
        "\n",
        "print(APs_10_predicted_throughput[item])\n",
        "print(target_10[item])\n",
        "\n",
        "# GRAPHICAL REPRESENTATION:\n",
        "plt.plot(APs_10_predicted_throughput[item].detach(), linestyle='--', marker='o', color='b')\n",
        "plt.plot(target_10[item].detach(), linestyle='--', marker='o', color='y')\n",
        "plt.ylim(0, 500)\n",
        "plt.show()"
      ],
      "execution_count": null,
      "outputs": [
        {
          "output_type": "stream",
          "text": [
            "TOTAL Mean squared error: 283.99\n",
            "\n",
            "28 Mean squared error: 401.55\n",
            "tensor([[ 97.2339],\n",
            "        [101.8341],\n",
            "        [ 49.0464],\n",
            "        [109.0457],\n",
            "        [141.1654],\n",
            "        [ 28.0038],\n",
            "        [150.3591],\n",
            "        [ 67.5469],\n",
            "        [ 63.1715],\n",
            "        [193.6048]], grad_fn=<SelectBackward>)\n",
            "tensor([[ 83.2900],\n",
            "        [ 90.6800],\n",
            "        [ 33.1500],\n",
            "        [129.7600],\n",
            "        [178.0600],\n",
            "        [ 22.2000],\n",
            "        [166.1000],\n",
            "        [ 77.4900],\n",
            "        [ 27.4900],\n",
            "        [193.1500]])\n"
          ],
          "name": "stdout"
        },
        {
          "output_type": "display_data",
          "data": {
            "image/png": "[encoded data removed]",
            "text/plain": [
              "<Figure size 432x288 with 1 Axes>"
            ]
          },
          "metadata": {
            "tags": [],
            "needs_background": "light"
          }
        }
      ]
    },
    {
      "cell_type": "markdown",
      "metadata": {
        "id": "Py9mAO1GWG2P"
      },
      "source": [
        "## SAVE RESULTS"
      ]
    },
    {
      "cell_type": "code",
      "metadata": {
        "id": "xMJyXwzsWKI2"
      },
      "source": [
        "print('Saving...')\n",
        "print('1')\n",
        "for i in range(50):\n",
        "    np.savetxt(results_path+'test scenario 1 - 4 APs/throughput_'+format(i+1,'1')+'.csv', [APs_4_predicted_throughput[i].detach().numpy().reshape(4)], delimiter=',',fmt='%.2f')\n",
        "print('2')\n",
        "for i in range(50):\n",
        "    np.savetxt(results_path+'test scenario 2 - 6 APs/throughput_'+format(i+1,'1')+'.csv', [APs_6_predicted_throughput[i].detach().numpy().reshape(6)], delimiter=',',fmt='%.2f')\n",
        "print('3')\n",
        "for i in range(50):\n",
        "    np.savetxt(results_path+'test scenario 3 - 8 APs/throughput_'+format(i+1,'1')+'.csv', [APs_8_predicted_throughput[i].detach().numpy().reshape(8)], delimiter=',',fmt='%.2f')\n",
        "print('4')\n",
        "for i in range(50):\n",
        "    np.savetxt(results_path+'test scenario 4 - 10 APs/throughput_'+format(i+1,'1')+'.csv', [APs_10_predicted_throughput[i].detach().numpy().reshape(10)], delimiter=',',fmt='%.2f')\n",
        "print('DONE!')"
      ],
      "execution_count": null,
      "outputs": []
    }
  ]
}